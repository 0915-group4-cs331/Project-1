{
    "metadata": {
        "kernelspec": {
            "name": "SQL",
            "display_name": "SQL",
            "language": "sql"
        },
        "language_info": {
            "name": "sql",
            "version": ""
        }
    },
    "nbformat_minor": 2,
    "nbformat": 4,
    "cells": [
        {
            "cell_type": "markdown",
            "source": [
                "### **1\\. Vanished Vendors**\n",
                "\n",
                "**Mystery:** A few suppliers who once delivered bike parts went silent. Find out which vendors have stopped supplying us\n",
                "\n",
                "**Objective:** Find vendors who have no purchase orders at all.\n",
                "\n",
                "**Tables:** Purchasing.Vendor, Purchasing.PurchaseOrderHeader"
            ],
            "metadata": {
                "azdata_cell_guid": "d541a9bc-588e-4ac1-a9e0-4cf2009852ed"
            },
            "attachments": {}
        },
        {
            "cell_type": "markdown",
            "source": [
                "### **2\\. Unsold Bikes**\n",
                "\n",
                "**Mystery:** Rumor has it there are top-of-the-line bicycle models that have never been sold. Marketing says it's for exclusive customers. Sales says it’s a flop. Find the truth.\n",
                "\n",
                "**Objective:** Find all expensive products never sold.\n",
                "\n",
                "**Tables:** Production.Product, Sales.SalesOrderDetail"
            ],
            "metadata": {
                "azdata_cell_guid": "9d4c5920-6814-48d7-9a18-04847dfaedb2"
            },
            "attachments": {}
        },
        {
            "cell_type": "markdown",
            "source": [
                "### **3\\. Duplicate Deals**\n",
                "\n",
                "**Mystery:** Customer arre being suspected of gaming the system by placing identical orders multiple times to exploit promotions.\n",
                "\n",
                "**Objective:** Find all the customers who are placing identical orders multiple times.\n",
                "\n",
                "**Tables:** Sales.SalesOrderHeader, Sales.SalesOrderDetail"
            ],
            "metadata": {
                "azdata_cell_guid": "56cf99d6-7a9b-4fbd-85b4-40b5d178ce44"
            },
            "attachments": {}
        },
        {
            "cell_type": "markdown",
            "source": [
                "### **4\\. Sales Person who sold too much**\n",
                "\n",
                "**Mystery:** A top salesperson’s numbers look too good to be true. Some say they’re falsifying records. See if the numbers check out.\n",
                "\n",
                "**Objective:** Find the Sales Person with the highest amount of Sales\n",
                "\n",
                "**Tables:** Sales.SalesOrderHeader, Sales.SalesPerson"
            ],
            "metadata": {
                "azdata_cell_guid": "734feafe-9474-4d42-a8d4-e949339535a5"
            },
            "attachments": {}
        },
        {
            "cell_type": "markdown",
            "source": [
                "### **5\\. Ghost Customers**\n",
                "\n",
                "**Mystery:** Marketing discovered several customers who were entered into the system but never placed a single order. Someone is inflating the customer list\n",
                "\n",
                "**Objective:** Find customers who have no orders\n",
                "\n",
                "**Tables:** Sales.Customer, Sales.SalesOrderHeader"
            ],
            "metadata": {
                "azdata_cell_guid": "ce13d614-c6a2-488d-a662-2f0c66735307"
            },
            "attachments": {}
        },
        {
            "cell_type": "markdown",
            "source": [
                "### **6\\. The Price Fixer**\n",
                "\n",
                "**Mystery:** An internal whistleblower claims that one product’s price has been identical across every order. Either it’s price fixing or laziness.\n",
                "\n",
                "**Objective:** Find products where the UnitPrice is always the same in every order.\n",
                "\n",
                "**Tables:** Sales.SalesOrderDetail"
            ],
            "metadata": {
                "azdata_cell_guid": "ea9d1bcc-d57d-4583-bdda-a6596272e2fd"
            },
            "attachments": {}
        },
        {
            "cell_type": "markdown",
            "source": [
                "### **7\\. New Blood**\n",
                "\n",
                "**Mystery:** The boss wants to know which customers started buying this year as they will keep the business alive.\n",
                "\n",
                "**Objective:** Find customers who placed orders in the current year but not in the previous year.\n",
                "\n",
                "**Tables:** Sales.SalesOrderHeader"
            ],
            "metadata": {
                "azdata_cell_guid": "55dd3952-909b-4bff-83a9-c815b732157a"
            },
            "attachments": {}
        }
    ]
}