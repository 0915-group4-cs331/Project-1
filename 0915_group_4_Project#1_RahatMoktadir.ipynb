{
    "metadata": {
        "kernelspec": {
            "name": "SQL",
            "display_name": "SQL",
            "language": "sql"
        },
        "language_info": {
            "name": "sql",
            "version": ""
        }
    },
    "nbformat_minor": 2,
    "nbformat": 4,
    "cells": [
        {
            "cell_type": "markdown",
            "source": [
                "## **CSCI 331 Project 1 - SQL Noir**\n",
                "\n",
                "## **Database - Northwinds2024Student**"
            ],
            "metadata": {
                "azdata_cell_guid": "e8526c36-1a0e-494b-8f35-82b4b753e15a"
            },
            "attachments": {}
        },
        {
            "cell_type": "markdown",
            "source": [
                "**Mystery 1: The Phantom Order**\n",
                "\n",
                "**Case Brief:** It’s a foggy night in the city. You get a call from a frantic source inside Northwind Traders. The numbers aren't adding up for their most popular product, \"Chai.\" Inventory is vanishing, but the sales records look clean. Your source slips you a crumpled napkin with a single piece of evidence scribbled on it: a date. **`July 10, 2024`**. They whisper, \"Something big and unusual happened on this day... find it, and you'll find the thief.\"\n",
                "\n",
                "**Task:**\n",
                "\n",
                "1. Find the `ProductID` for 'Chai' to use as a key in your investigation.\n",
                "    \n",
                "2. Scan all orders for 'Chai' placed on `July 10, 2024`. Identify the `OrderID` that has a suspiciously high quantity compared to the others.\n",
                "    \n",
                "3. Using the suspicious `OrderID`, identify the full name and title of the employee who processed the order.\n",
                "    \n",
                "4. Uncover the mastermind. Find out who that employee reports to, revealing the manager who was likely overseeing the scheme."
            ],
            "metadata": {
                "azdata_cell_guid": "ac0e7935-c581-4800-a24f-168d672ff216"
            },
            "attachments": {}
        },
        {
            "cell_type": "markdown",
            "source": [
                "**Mystery 2: The Disappearing Discount**\n",
                "\n",
                "**Case Brief:** A shadow falls over the accounting department. Profits are down, but sales are up. It doesn't make sense. An anonymous tip suggests you look into unusually high discounts. It seems someone is giving away the farm to a specific customer, likely for a kickback. The only clue you have is a name from a partially shredded document: **\"White Clover Markets\"**.\n",
                "\n",
                "**Task:**\n",
                "\n",
                "1. Find the `CustomerID` for 'White Clover Markets' to begin tracking their activity.\n",
                "    \n",
                "2. Find the specific `OrderID` placed by this customer that had an unusually high discount (greater than 20%).\n",
                "    \n",
                "3. Using the suspicious `OrderID`, identify the full name and title of the employee responsible for authorizing this generous deal."
            ],
            "metadata": {
                "azdata_cell_guid": "d3e0df34-c098-4dfa-8c98-bc32f0855bd8"
            },
            "attachments": {}
        },
        {
            "cell_type": "markdown",
            "source": [
                "**Mystery 3: The Ghost Shipper**\n",
                "\n",
                "**Case Brief:** The longshoremen are talking. Whispers of shipments leaving the Northwind docks in the dead of night, carried by trucks with no official markings. Products are going missing, but they aren't being reported as stolen. They're being shipped via an unlisted company. The paper trail leads you to a single, cryptic `OrderID`: **`10258`**.\n",
                "\n",
                "**Task:**\n",
                "\n",
                "1. Identify the official shipping company that was _supposed_ to handle `OrderID` `10258`.\n",
                "    \n",
                "2. Find the full name of the employee who managed this specific order.\n",
                "    \n",
                "3. Investigate that employee's activity. Find all the distinct shipping companies they have ever used. If a name appears other than the three official Northwind shippers ('Speedy Express', 'United Package', 'Federal Shipping'), you've found the ghost shipper."
            ],
            "metadata": {
                "language": "sql",
                "azdata_cell_guid": "c6205821-bac3-4056-8c0f-103e4021fc61"
            },
            "attachments": {}
        },
        {
            "cell_type": "markdown",
            "source": [
                "**Mystery 4: The Lagging London Orders**\n",
                "\n",
                "**Case Brief:** The CEO is furious. A major client in **London**, \"Around the Horn,\" has been complaining for weeks about late shipments. All other clients in the city are getting their orders on time. The problem is isolated, which means it's not a logistics issue—it's a _people_ issue. Someone is either incompetent or deliberately slowing things down.\n",
                "\n",
                "**Task:**\n",
                "\n",
                "1. Find the `CustomerID` for the client \"Around the Horn.\"\n",
                "    \n",
                "2. Identify the full name of the employee who has processed the most orders for this client. This is your prime suspect.\n",
                "    \n",
                "3. Calculate the average shipping delay (in days, between `OrderDate` and `ShippedDate`) for your suspect's orders that were sent to London.\n",
                "    \n",
                "4. Compare this to the average shipping delay for another employee who also ships to London. A significant difference will confirm your suspect's guilt."
            ],
            "metadata": {
                "language": "sql",
                "azdata_cell_guid": "54b1c143-8903-4dd2-b186-95021f5c9290"
            },
            "attachments": {}
        },
        {
            "cell_type": "markdown",
            "source": [
                "**Mystery 5: The Sabotaged Supply Chain**\n",
                "\n",
                "**Case Brief:** Panic in the kitchen. Northwind's famous \"Aniseed Syrup\" is suddenly unavailable. It's been marked as **discontinued**. This is one of the company's staple products, and cutting it off without warning has thrown everything into chaos. This wasn't a business decision; it was sabotage.\n",
                "\n",
                "**Task:**\n",
                "\n",
                "1. Confirm that the product 'Aniseed Syrup' is discontinued in the `Products` table and find its `SupplierID`.\n",
                "    \n",
                "2. Using the `SupplierID`, identify the `CompanyName` of the supplier who provides the product.\n",
                "    \n",
                "3. The decision to drop a supplier is made by a regional manager. Search the `Notes` field in the `Employees` table for the supplier's country (`UK`). Identify the name and title of the manager responsible for that territory."
            ],
            "metadata": {
                "language": "sql",
                "azdata_cell_guid": "e9bfb129-4c72-410e-a690-2b719eed9f58"
            },
            "attachments": {}
        },
        {
            "cell_type": "markdown",
            "source": [
                "**Mystery 6: The Overstuffed Crates**\n",
                "\n",
                "**Case Brief:** The warehouse manager is pulling his hair out. Shipping costs are through the roof, but it's not the fault of the shippers. He's noticed that some orders are being sent out with an unusually high number of different products packed into a single shipment. These \"overstuffed\" crates are complex to pack and weigh more, incurring extra fees. He suspects an employee is trying to hit a performance metric by consolidating too many small orders, without regard for the cost.\n",
                "\n",
                "**Task:**\n",
                "\n",
                "1. Identify the `OrderID`s that contain the highest number of unique products (i.e., the most line items in `OrderDetails`). Focus on orders with 10 or more unique items.\n",
                "    \n",
                "2. Find the full name and title of the employee who is responsible for processing the most of these \"overstuffed\" orders.\n",
                "    \n",
                "3. Calculate the total `Freight` cost generated by this specific employee just for their overstuffed orders to quantify the financial impact of their actions."
            ],
            "metadata": {
                "language": "sql",
                "azdata_cell_guid": "f95d8f1a-99d7-41b0-8f04-62314e6eb0da"
            },
            "attachments": {}
        },
        {
            "cell_type": "markdown",
            "source": [
                "**Mystery 7: The Unpopular Product Pusher**\n",
                "\n",
                "**Case Brief:** A strange trend has emerged in the sales data. An unpopular, low-margin product, **\"Mishi Kobe Niku\"**, is suddenly being sold in high volumes, but only by a single employee and to a specific region. Management is worried this employee is pushing dead stock onto unsuspecting clients, potentially to clear inventory for a bonus, which could damage client relationships.\n",
                "\n",
                "**Task:**\n",
                "\n",
                "1. Find the `ProductID` for 'Mishi Kobe Niku'.\n",
                "    \n",
                "2. Identify the full name of the employee who has sold the most units of this specific product.\n",
                "    \n",
                "3. Determine the city (`ShipCity`) where this employee has shipped the most units of 'Mishi Kobe Niku', revealing their target market for this scheme.\n",
                "    \n",
                "4. Find the name of the `Customer` (`CompanyName`) who has purchased the most units of this product from our suspect employee, identifying the potential victim of the scheme."
            ],
            "metadata": {
                "language": "sql",
                "azdata_cell_guid": "b0b5a1d6-540a-41e1-8c3e-b8717a634eeb"
            },
            "attachments": {}
        }
    ]
}