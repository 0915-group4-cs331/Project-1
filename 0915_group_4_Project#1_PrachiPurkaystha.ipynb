{
    "metadata": {
        "kernelspec": {
            "name": "SQL",
            "display_name": "SQL",
            "language": "sql"
        },
        "language_info": {
            "name": "sql",
            "version": ""
        }
    },
    "nbformat_minor": 2,
    "nbformat": 4,
    "cells": [
        {
            "cell_type": "markdown",
            "source": [
                "```\n",
                "Mystery #1) The Disappearing Bonuses\n",
                "```\n",
                "```\n",
                "Story: Some employees receive bonuses, but there are salespeople who never got one. Who are they?\n",
                "```\n",
                "```\n",
                "Objective: The salespeople who never got the quota bonus\n",
                "```\n",
                "```\n",
                "Tables: Sales.SalesPerson, Sales.SalesPersonQuotaHistory, Person.Person\n",
                "\n",
                "```"
            ],
            "metadata": {
                "azdata_cell_guid": "f0f3c154-64cd-4b47-afdd-4e255b16a8fa"
            },
            "attachments": {}
        },
        {
            "cell_type": "markdown",
            "source": [
                "```\n",
                "Mystery #2 — Night Owls\n",
                "```\n",
                "```\n",
                "Story: Find employees who  badge in  during late-night hours (between 11 PM and 5 AM). Suspicious behavior after dark\n",
                "```\n",
                "```\n",
                "Objective: EObjective: Employees with suspicious late-night account changes\n",
                "```\n",
                "```\n",
                "tables:HumanResources.Employee,Person.Person,  EmployeePayHistory(timestamp) \n",
                "\n",
                "```"
            ],
            "metadata": {
                "azdata_cell_guid": "7d12a7a5-a3a2-41bd-b9a4-85ce23f44279"
            },
            "attachments": {}
        },
        {
            "cell_type": "markdown",
            "source": [
                "```\n",
                "Mystery #3: Missing Department Records\n",
                "```\n",
                "```\n",
                "Story:Some employees appear on payroll but mysteriously have  no department\n",
                "```\n",
                "```\n",
                "Objective:  Display employees who are recorded in HR but do not appear in any department records\n",
                "```\n",
                "```\n",
                "Tables:  HumanResources.Employee, HumanResources.EmployeeDepartmentHistory, Person.Person\n",
                "\n",
                "```"
            ],
            "metadata": {
                "azdata_cell_guid": "8ad905d5-2106-4a18-ad0b-b0268cdcee5b"
            },
            "attachments": {}
        },
        {
            "cell_type": "markdown",
            "source": [
                "```\n",
                "Mystery #4 Duplicate Emails\n",
                "```\n",
                "```\n",
                "Story: Someone may be using the same email as another person. Huge red flag for identity fraud\n",
                "```\n",
                "```\n",
                "Objective: Find email addresses linked to more than one person\n",
                "```\n",
                "```\n",
                "Table: Person.EmailAddress, Person.Person\n",
                "\n",
                "```"
            ],
            "metadata": {
                "language": "sql",
                "azdata_cell_guid": "f242a06e-ac66-4646-9f97-f549abb85206"
            },
            "attachments": {}
        },
        {
            "cell_type": "markdown",
            "source": [
                "```\n",
                "Mystery #5 — The Ghost Inventory\n",
                "\n",
                "```\n",
                "```\n",
                "Story: A warehouse reports  no stock  or even  negative  stock for some items\n",
                "\n",
                "```\n",
                "```\n",
                "Objective: List products with quantity  **<= 0**  anywhere\n",
                "```\n",
                "```\n",
                "Table: Production.ProductInventory, Production.Product, Production.Location\n",
                "\n",
                "```"
            ],
            "metadata": {
                "language": "sql",
                "azdata_cell_guid": "33646bb8-a9a5-47ff-a6be-93f01eea2c05"
            },
            "attachments": {}
        },
        {
            "cell_type": "markdown",
            "source": [
                "```\n",
                "Mystery #6: The Coupon Bandit\n",
                "\n",
                "```\n",
                "```\n",
                "Story: Someone gave away  huge discounts. Were they authorized?\n",
                "```\n",
                "```\n",
                "Objective: Find order lines with UnitpriceDiscount 50% or more\n",
                "```\n",
                "```\n",
                "Tables: Sales.SalesOrderDetail, Production.Product\n",
                "\n",
                "```"
            ],
            "metadata": {
                "language": "sql",
                "azdata_cell_guid": "26e0af29-1a63-4a52-83b2-b41293a27f2b"
            },
            "attachments": {}
        },
        {
            "cell_type": "markdown",
            "source": [
                "## <span data-start=\"665\" data-end=\"675\" style=\"font-size: 14px; font-family: -apple-system, BlinkMacSystemFont, sans-serif; color: var(--vscode-foreground);\"><br></span>\n",
                "\n",
                "```\n",
                "Mystery #7: The outlawed item\n",
                "```\n",
                "```\n",
                "Story: A product that was discontinued still shows up in sales. Who sold it after its end date?\n",
                "```\n",
                "```\n",
                "Objective: List order lines where OrderDate is after the product’s SellEndDate \n",
                "```\n",
                "```\n",
                "Tables: Sales.SalesOrderDetail, Sales.SalesOrderHeader, Production.Product\n",
                "\n",
                "```"
            ],
            "metadata": {
                "language": "sql",
                "azdata_cell_guid": "748098bf-64e3-4737-97fd-eec3edc0d09d"
            },
            "attachments": {}
        }
    ]
}