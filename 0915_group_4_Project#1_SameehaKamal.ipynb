{
    "metadata": {
        "kernelspec": {
            "name": "SQL",
            "display_name": "SQL",
            "language": "sql"
        },
        "language_info": {
            "name": "sql",
            "version": ""
        }
    },
    "nbformat_minor": 2,
    "nbformat": 4,
    "cells": [
        {
            "cell_type": "markdown",
            "source": [
                "Proposition-Style Mysteries\n",
                "\n",
                "<span style=\"color: var(--vscode-foreground);\">Database: StudentNorthwinds (StudentNortwinds-20250403.bak)</span>\n",
                "\n",
                "Each mystery contains 3-5 propositions (questions) that build upon each other."
            ],
            "metadata": {
                "azdata_cell_guid": "3e221ca9-9376-4935-a720-93afa1bcc21e"
            },
            "attachments": {}
        },
        {
            "cell_type": "markdown",
            "source": [
                "<span style=\"color: var(--vscode-foreground);\"><b>Mystery 1: The Weekend Worker</b></span>\n",
                "\n",
                "**Case Brief:** Someone has been processing orders on weekends when the office is supposedly closed. Management suspects unauthorized activity.\n",
                "\n",
                "**Task:**\n",
                "\n",
                "<span style=\"color: var(--vscode-foreground);\">1) Find all orders placed on Saturday or Sunday. Show OrderID, OrderDate, day of week, and the employee who processed it.</span>\n",
                "\n",
                "<span style=\"color: var(--vscode-foreground);\">2) Which employee processed the most weekend orders? Show their name, title, and count of weekend orders.</span>"
            ],
            "metadata": {
                "azdata_cell_guid": "825820d2-ef79-454c-b81f-aeaac02e474e"
            },
            "attachments": {}
        },
        {
            "cell_type": "markdown",
            "source": [
                "**<span style=\"color: var(--vscode-foreground);\">Mystery 2: The Discount Dilemma&nbsp;</span>**  \n",
                "\n",
                "**Case Brief:** he finance team noticed that certain orders have unusually high discounts applied. These deep discounts are cutting into profits significantly.\n",
                "\n",
                "**Task:**\n",
                "\n",
                "<span style=\"color: var(--vscode-foreground);\">1) Find all order line items with discounts greater than 20%. Show OrderID, ProductName, Discount, and the money lost due to discount.</span>\n",
                "\n",
                "<span style=\"color: var(--vscode-foreground);\">2) Which employee authorized the most high-discount orders? Show their name, title, count of orders, and total money lost due to their excessive discounts.</span>"
            ],
            "metadata": {
                "language": "sql",
                "azdata_cell_guid": "9bc91e9d-5fd7-4fa5-82ae-fa6c8a3f6a7d"
            },
            "attachments": {}
        },
        {
            "cell_type": "markdown",
            "source": [
                "<span style=\"color: var(--vscode-foreground);\"><b>Mystery 3: The Phantom Shipper</b></span>\n",
                "\n",
                "**Case Brief:** Shipping costs have increased, but the company's registered shipping companies claim they haven't raised prices. Someone may be routing orders through fake shippers.\n",
                "\n",
                "**<span style=\"color: var(--vscode-foreground);\">Task:&nbsp;</span>**  \n",
                "\n",
                "<span style=\"color: var(--vscode-foreground);\">1) Find orders with unusually high freight charges (above $100). Show OrderID, ShipName, Freight amount, and which shipper was used.</span>\n",
                "\n",
                "<span style=\"color: var(--vscode-foreground);\">2) Calculate the average and total freight cost per shipper. Which shipper has suspiciously high costs compared to others?</span>"
            ],
            "metadata": {
                "azdata_cell_guid": "b92e1f49-f635-4d14-ab64-c7be0025025d"
            },
            "attachments": {}
        },
        {
            "cell_type": "markdown",
            "source": [
                "**Mystery 4: The Late Night Orders** \n",
                "\n",
                "**Case Brief**<span style=\"color: var(--vscode-foreground);\">: Security noticed database activity during unusual hours (10 PM - 6 AM). These could be legitimate international orders, or someone working after hours without authorization.</span>\n",
                "\n",
                "**Tas**\n",
                "\n",
                "<span style=\"color: var(--vscode-foreground);\">1) Identify orders that would have been placed during late hours (10 PM - 6 AM) based on patterns. Show OrderID, OrderDate, Employee name, and customer.</span>\n",
                "\n",
                "_\\*Note: If OrderDate doesn't have time component, look for other suspicious patterns like orders on holidays or specific dates.\\*_\n",
                "\n",
                "<span style=\"color: var(--vscode-foreground);\">2)Find employees who process significantly more orders than others - this could indicate someone working unusual hours or processing fraudulent orders.</span>"
            ],
            "metadata": {
                "azdata_cell_guid": "6026654f-a4d0-49b5-baed-0e90bae1aeb8"
            },
            "attachments": {}
        },
        {
            "cell_type": "markdown",
            "source": [
                "**Mystery 5: The Quantity Quandary**\n",
                "\n",
                "**Case Brief:** <span style=\"color: var(--vscode-foreground);\">Inventory audits show discrepancies between what was sold and what should be in stock. Someone may be manipulating order quantity.</span>\n",
                "\n",
                "<span style=\"color: var(--vscode-foreground);\">Task:</span>\n",
                "\n",
                "<span style=\"color: var(--vscode-foreground);\">1) Find order line items with unusually large quantities (&gt;100 units). Show OrderID, ProductName, Quantity, total value, and which employee processed it.</span>\n",
                "\n",
                "<span style=\"color: var(--vscode-foreground);\">2) Which employee processed the most high-quantity orders? Show their name and the total value of goods they've moved in these suspicious orders.</span>"
            ],
            "metadata": {
                "language": "sql",
                "azdata_cell_guid": "320a7a3b-6841-4a11-8a8b-85f3e452e1ac"
            },
            "attachments": {}
        },
        {
            "cell_type": "markdown",
            "source": [
                "<span style=\"color: var(--vscode-foreground);\"><b>Mystery 6: The Customer Ghost</b></span>\n",
                "\n",
                "<span style=\"color: var(--vscode-foreground);\"><b>Case Brief:</b> The marketing team tried to contact some customers for a survey, but many customers' contact information is incomplete or suspicious. Some may be fake accounts.</span>  \n",
                "\n",
                "<span style=\"color: var(--vscode-foreground);\"><b>Task:</b></span>\n",
                "\n",
                "<span style=\"color: var(--vscode-foreground);\">1) Find customers with incomplete contact information (missing Phone or Region) who have placed orders. Show CustomerID, CompanyName, number of orders, and total revenue from them.</span>\n",
                "\n",
                "<span style=\"color: var(--vscode-foreground);\">2) Find customers who have placed only ONE order (potential fake accounts). Show their details and the value of that single order. Sort by order value to find the most suspicious ones.</span>"
            ],
            "metadata": {
                "language": "sql",
                "azdata_cell_guid": "dfc4f16a-b055-41fb-8f4c-ebca38f1eb52"
            },
            "attachments": {}
        },
        {
            "cell_type": "markdown",
            "source": [
                "<span style=\"color: var(--vscode-foreground);\"><b>Mystery 7: The Price Manipulator.</b></span>\n",
                "\n",
                "<span style=\"color: var(--vscode-foreground);\"><b>Case Brief:</b></span>\n",
                "\n",
                "<span style=\"color: var(--vscode-foreground);\">An audit revealed that some orders have products priced differently than the standard price in the Products table. Someone may be manually changing prices during order entry.</span>\n",
                "\n",
                "**Task:**\n",
                "\n",
                "<span style=\"color: var(--vscode-foreground);\">1) Find order line items where the price charged differs from the catalog price. Show OrderID, ProductName, catalog price, actual price charged, the difference, and total impact.</span>\n",
                "\n",
                "<span style=\"color: var(--vscode-foreground);\">2) Which employee processed the most orders with price discrepancies? Show their name and the total revenue loss (or gain) from their price manipulations.</span>"
            ],
            "metadata": {
                "azdata_cell_guid": "a1e650bf-c5a4-479c-af66-8ddf159dcab1"
            },
            "attachments": {}
        }
    ]
}